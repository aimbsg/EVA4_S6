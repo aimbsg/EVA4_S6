{
  "nbformat": 4,
  "nbformat_minor": 0,
  "metadata": {
    "colab": {
      "name": "5_EVA4S6_Plot_val_acc_loss.ipynb",
      "provenance": [],
      "authorship_tag": "ABX9TyMQgy4sGllMeEW69R6BsG+s",
      "include_colab_link": true
    },
    "kernelspec": {
      "name": "python3",
      "display_name": "Python 3"
    },
    "accelerator": "GPU"
  },
  "cells": [
    {
      "cell_type": "markdown",
      "metadata": {
        "id": "view-in-github",
        "colab_type": "text"
      },
      "source": [
        "<a href=\"https://colab.research.google.com/github/aimbsg/EVA4_S6/blob/master/5_EVA4S6_Plot_val_acc_loss.ipynb\" target=\"_parent\"><img src=\"https://colab.research.google.com/assets/colab-badge.svg\" alt=\"Open In Colab\"/></a>"
      ]
    },
    {
      "cell_type": "markdown",
      "metadata": {
        "id": "P-xVfTBs_VyC",
        "colab_type": "text"
      },
      "source": [
        "Plotting validation accuracy and validation loss for all 4 combinations"
      ]
    },
    {
      "cell_type": "code",
      "metadata": {
        "id": "Rt0TOdNB0oPd",
        "colab_type": "code",
        "colab": {
          "base_uri": "https://localhost:8080/",
          "height": 122
        },
        "outputId": "28c1de3a-68c7-436b-90b8-074d40cf54e4"
      },
      "source": [
        "from google.colab import drive\n",
        "drive.mount('/content/gdrive')"
      ],
      "execution_count": 1,
      "outputs": [
        {
          "output_type": "stream",
          "text": [
            "Go to this URL in a browser: https://accounts.google.com/o/oauth2/auth?client_id=947318989803-6bn6qk8qdgf4n4g3pfee6491hc0brc4i.apps.googleusercontent.com&redirect_uri=urn%3aietf%3awg%3aoauth%3a2.0%3aoob&response_type=code&scope=email%20https%3a%2f%2fwww.googleapis.com%2fauth%2fdocs.test%20https%3a%2f%2fwww.googleapis.com%2fauth%2fdrive%20https%3a%2f%2fwww.googleapis.com%2fauth%2fdrive.photos.readonly%20https%3a%2f%2fwww.googleapis.com%2fauth%2fpeopleapi.readonly\n",
            "\n",
            "Enter your authorization code:\n",
            "··········\n",
            "Mounted at /content/gdrive\n"
          ],
          "name": "stdout"
        }
      ]
    },
    {
      "cell_type": "code",
      "metadata": {
        "id": "yJeuRZgT0qUF",
        "colab_type": "code",
        "colab": {
          "base_uri": "https://localhost:8080/",
          "height": 34
        },
        "outputId": "9c0018e0-812b-4abf-b562-ce59004b7f32"
      },
      "source": [
        "import os\n",
        "os.chdir('/content/gdrive/My Drive/EVA4S6_Train_Test_Accu_Loss')\n",
        "os.getcwd()"
      ],
      "execution_count": 2,
      "outputs": [
        {
          "output_type": "execute_result",
          "data": {
            "text/plain": [
              "'/content/gdrive/My Drive/EVA4S6_Train_Test_Accu_Loss'"
            ]
          },
          "metadata": {
            "tags": []
          },
          "execution_count": 2
        }
      ]
    },
    {
      "cell_type": "code",
      "metadata": {
        "id": "WGeV69Pj0tOw",
        "colab_type": "code",
        "colab": {}
      },
      "source": [
        "import torch\n",
        "no_L1_no_L2_test_acc = torch.load(\"no_L1_no_L2_test_acc.pt\")\n",
        "no_L1_no_L2_test_loss = torch.load(\"no_L1_no_L2_test_loss.pt\")\n",
        "with_L1_no_L2_test_acc = torch.load(\"with_L1_no_L2_test_acc.pt\")\n",
        "with_L1_no_L2_test_loss = torch.load(\"with_L1_no_L2_test_loss.pt\")\n",
        "with_L2_no_L1_test_acc = torch.load(\"with_L2_no_L1_test_acc.pt\")\n",
        "with_L2_no_L1_test_loss = torch.load(\"with_L2_no_L1_test_loss.pt\")\n",
        "with_L1_and_L2_test_acc = torch.load(\"with_L1_and_L2_test_acc.pt\")\n",
        "with_L1_and_L2_test_loss = torch.load(\"with_L1_and_L2_test_loss.pt\")"
      ],
      "execution_count": 0,
      "outputs": []
    },
    {
      "cell_type": "code",
      "metadata": {
        "id": "0wCvRQHG_UNt",
        "colab_type": "code",
        "colab": {
          "base_uri": "https://localhost:8080/",
          "height": 295
        },
        "outputId": "c20b3d18-7c93-4a64-93ab-dd5eea87f049"
      },
      "source": [
        "import matplotlib.pyplot as plt\n",
        "\n",
        "ax = plt.subplot(111)\n",
        "plt.title(\"Validation accuracy comparison of 4 combinations\")\n",
        "plt.xlabel('# epochs')\n",
        "plt.ylabel('% accuracy')\n",
        "for n in [1, 2, 3, 4]:    \n",
        "    if(n == 1):\n",
        "      plt.plot(no_L1_no_L2_test_acc, label = \"no_l1_and_l2\")       \n",
        "    if(n == 2):\n",
        "      plt.plot(with_L1_no_L2_test_acc, label = \"l1_only\")\n",
        "    if(n == 3):\n",
        "      plt.plot(with_L2_no_L1_test_acc, label = \"l2_only\")\n",
        "    if(n == 4):\n",
        "      plt.plot(with_L1_and_L2_test_acc, label = \"both_l1_and_l2\")    \n",
        "leg = plt.legend(loc='lower center', ncol=4, mode=\"expand\", shadow=True, fancybox=True)\n",
        "leg.get_frame().set_alpha(0.5)\n",
        "plt.show()"
      ],
      "execution_count": 5,
      "outputs": [
        {
          "output_type": "display_data",
          "data": {
            "image/png": "[encoded data removed]",
            "text/plain": [
              "<Figure size 432x288 with 1 Axes>"
            ]
          },
          "metadata": {
            "tags": []
          }
        }
      ]
    },
    {
      "cell_type": "code",
      "metadata": {
        "id": "TvgOaJWg43RS",
        "colab_type": "code",
        "colab": {
          "base_uri": "https://localhost:8080/",
          "height": 295
        },
        "outputId": "b73f14e5-bbfb-41d9-aa7b-cc808e67408c"
      },
      "source": [
        "ax = plt.subplot(111)\n",
        "plt.title(\"Validation losses comparison of 4 combinations\")\n",
        "plt.xlabel('# epochs')\n",
        "plt.ylabel('loss')\n",
        "for n in [1, 2, 3, 4]:    \n",
        "    if(n == 1):\n",
        "      plt.plot(no_L1_no_L2_test_loss, label = \"no_l1_and_l2\")       \n",
        "    if(n == 2):\n",
        "      plt.plot(with_L1_no_L2_test_loss, label = \"l1_only\")\n",
        "    if(n == 3):\n",
        "      plt.plot(with_L2_no_L1_test_loss, label = \"l2_only\")\n",
        "    if(n == 4):\n",
        "      plt.plot(with_L1_and_L2_test_loss, label = \"both_l1_and_l2\")    \n",
        "leg = plt.legend(loc='upper center', ncol=4, mode=\"expand\", shadow=True, fancybox=True)\n",
        "leg.get_frame().set_alpha(0.5)\n",
        "plt.show()"
      ],
      "execution_count": 7,
      "outputs": [
        {
          "output_type": "display_data",
          "data": {
            "image/png": "[encoded data removed]",
            "text/plain": [
              "<Figure size 432x288 with 1 Axes>"
            ]
          },
          "metadata": {
            "tags": []
          }
        }
      ]
    },
    {
      "cell_type": "markdown",
      "metadata": {
        "id": "sqkrrtTGEJ8H",
        "colab_type": "text"
      },
      "source": [
        "WIP - Loading models to get 25 misclassified images (Creating separate modules for visualization as predecessor for Assignment 7, currently 25 images are created in the model code itself)"
      ]
    },
    {
      "cell_type": "code",
      "metadata": {
        "id": "TQA4un1eEqV2",
        "colab_type": "code",
        "colab": {
          "base_uri": "https://localhost:8080/",
          "height": 34
        },
        "outputId": "5eef64b4-500e-40ca-8dc4-d396f8ef83a8"
      },
      "source": [
        "from google.colab import drive\n",
        "drive.mount('/content/gdrive')"
      ],
      "execution_count": 1,
      "outputs": [
        {
          "output_type": "stream",
          "text": [
            "Drive already mounted at /content/gdrive; to attempt to forcibly remount, call drive.mount(\"/content/gdrive\", force_remount=True).\n"
          ],
          "name": "stdout"
        }
      ]
    },
    {
      "cell_type": "code",
      "metadata": {
        "id": "9ZjmrQgGEIY9",
        "colab_type": "code",
        "colab": {
          "base_uri": "https://localhost:8080/",
          "height": 34
        },
        "outputId": "678afe81-eca3-4f82-933c-693f25b194ca"
      },
      "source": [
        "import torch\n",
        "import os\n",
        "os.chdir('/content/gdrive/My Drive/EVA4S6_Train_Test_Accu_Loss')\n",
        "os.getcwd()"
      ],
      "execution_count": 2,
      "outputs": [
        {
          "output_type": "execute_result",
          "data": {
            "text/plain": [
              "'/content/gdrive/My Drive/EVA4S6_Train_Test_Accu_Loss'"
            ]
          },
          "metadata": {
            "tags": []
          },
          "execution_count": 2
        }
      ]
    },
    {
      "cell_type": "code",
      "metadata": {
        "id": "SsqLsj-4Sr3Y",
        "colab_type": "code",
        "colab": {
          "base_uri": "https://localhost:8080/",
          "height": 51
        },
        "outputId": "0b66acff-dd37-4891-9478-3ba42081e462"
      },
      "source": [
        "cuda = torch.cuda.is_available()\n",
        "print(\"CUDA Available?\", cuda)\n",
        "use_cuda = torch.cuda.is_available()\n",
        "device = torch.device(\"cuda\" if use_cuda else \"cpu\")\n",
        "print(device)"
      ],
      "execution_count": 12,
      "outputs": [
        {
          "output_type": "stream",
          "text": [
            "CUDA Available? False\n",
            "cpu\n"
          ],
          "name": "stdout"
        }
      ]
    },
    {
      "cell_type": "code",
      "metadata": {
        "id": "19xIfIFjE1uT",
        "colab_type": "code",
        "colab": {}
      },
      "source": [
        "import torch.nn as nn\n",
        "import torch.nn.functional as F\n",
        "dropout_value = 0.05\n",
        "class MyModel(nn.Module):\n",
        "    def __init__(self):\n",
        "        super(MyModel, self).__init__()\n",
        "        # Input Block\n",
        "        self.convblock1 = nn.Sequential(\n",
        "            nn.Conv2d(in_channels=1, out_channels=8, kernel_size=(3, 3), padding=0, bias=False),\n",
        "            nn.ReLU(),\n",
        "            nn.BatchNorm2d(8),\n",
        "            nn.Dropout(dropout_value)\n",
        "        ) # output_size = 26\n",
        "\n",
        "        # CONVOLUTION BLOCK 1\n",
        "        self.convblock2 = nn.Sequential(\n",
        "            nn.Conv2d(in_channels=8, out_channels=16, kernel_size=(3, 3), padding=0, bias=False),\n",
        "            nn.ReLU(),\n",
        "            nn.BatchNorm2d(16),\n",
        "            nn.Dropout(dropout_value)\n",
        "        ) # output_size = 24\n",
        "\n",
        "        # TRANSITION BLOCK 1\n",
        "        self.convblock3 = nn.Sequential(\n",
        "            nn.Conv2d(in_channels=16, out_channels=10, kernel_size=(1, 1), padding=0, bias=False),\n",
        "        ) # output_size = 24\n",
        "        self.pool1 = nn.MaxPool2d(2, 2) # output_size = 12\n",
        "\n",
        "        # CONVOLUTION BLOCK 2\n",
        "        self.convblock4 = nn.Sequential(\n",
        "            nn.Conv2d(in_channels=10, out_channels=8, kernel_size=(3, 3), padding=0, bias=False),\n",
        "            nn.ReLU(),            \n",
        "            nn.BatchNorm2d(8),\n",
        "            nn.Dropout(dropout_value)\n",
        "        ) # output_size = 10\n",
        "        self.convblock5 = nn.Sequential(\n",
        "            nn.Conv2d(in_channels=8, out_channels=8, kernel_size=(3, 3), padding=0, bias=False),\n",
        "            nn.ReLU(),            \n",
        "            nn.BatchNorm2d(8),\n",
        "            nn.Dropout(dropout_value)\n",
        "        ) # output_size = 8\n",
        "        self.convblock6 = nn.Sequential(\n",
        "            nn.Conv2d(in_channels=8, out_channels=16, kernel_size=(3, 3), padding=0, bias=False),\n",
        "            nn.ReLU(),            \n",
        "            nn.BatchNorm2d(16),\n",
        "            nn.Dropout(dropout_value)\n",
        "        ) # output_size = 6\n",
        "        self.convblock7 = nn.Sequential(\n",
        "            nn.Conv2d(in_channels=16, out_channels=32, kernel_size=(3, 3), padding=0, bias=False),\n",
        "            nn.ReLU(),            \n",
        "            nn.BatchNorm2d(32),\n",
        "            nn.Dropout(dropout_value)\n",
        "        ) # output_size = 4\n",
        "        \n",
        "        # OUTPUT BLOCK\n",
        "        self.gap = nn.Sequential(\n",
        "            nn.AvgPool2d(kernel_size=4)\n",
        "        ) # output_size = 1\n",
        "\n",
        "        self.convblock8 = nn.Sequential(\n",
        "            nn.Conv2d(in_channels=32, out_channels=10, kernel_size=(1, 1), padding=0, bias=False),\n",
        "            # nn.BatchNorm2d(10),\n",
        "            # nn.ReLU(),\n",
        "            # nn.Dropout(dropout_value)\n",
        "        ) \n",
        "\n",
        "\n",
        "        self.dropout = nn.Dropout(dropout_value)\n",
        "\n",
        "    def forward(self, x):\n",
        "        x = self.convblock1(x)\n",
        "        x = self.convblock2(x)\n",
        "        x = self.convblock3(x)\n",
        "        x = self.pool1(x)\n",
        "        x = self.convblock4(x)\n",
        "        x = self.convblock5(x)\n",
        "        x = self.convblock6(x)\n",
        "        x = self.convblock7(x)\n",
        "        x = self.gap(x)        \n",
        "        x = self.convblock8(x)\n",
        "\n",
        "        x = x.view(-1, 10)\n",
        "        return F.log_softmax(x, dim=-1)"
      ],
      "execution_count": 0,
      "outputs": []
    },
    {
      "cell_type": "code",
      "metadata": {
        "id": "Nz6gvLTCKzlT",
        "colab_type": "code",
        "colab": {}
      },
      "source": [
        "# model = MyModel().load_state_dict(torch.load(\"model_with_L1_no_L2.pth\"))\n",
        "model = torch.load(\"model_with_L1_no_L2.pth\", map_location = torch.device('cpu'))"
      ],
      "execution_count": 0,
      "outputs": []
    },
    {
      "cell_type": "code",
      "metadata": {
        "id": "SPeEUMPLTFIo",
        "colab_type": "code",
        "colab": {}
      },
      "source": [
        "from torchvision import transforms\n",
        "test_transforms = transforms.Compose([\n",
        "                                      #  transforms.Resize((28, 28)),\n",
        "                                      #  transforms.ColorJitter(brightness=0.10, contrast=0.1, saturation=0.10, hue=0.1),\n",
        "                                       transforms.ToTensor(),\n",
        "                                       transforms.Normalize((0.1307,), (0.3081,))\n",
        "                                       ])"
      ],
      "execution_count": 0,
      "outputs": []
    },
    {
      "cell_type": "code",
      "metadata": {
        "id": "PkdNvnVxKK5H",
        "colab_type": "code",
        "colab": {}
      },
      "source": [
        "import numpy as np\n",
        "def get_input_images(num):\n",
        "    dataloader_args = dict(shuffle=True, batch_size=num, num_workers=4, pin_memory=True) if cuda else dict(shuffle=True, batch_size=64)      \n",
        "    test1 = datasets.MNIST('./data', train=False, download=True, transform=test_transforms)  \n",
        "    loader = torch.utils.data.DataLoader(test1, **dataloader_args)    \n",
        "    dataiter = iter(loader)\n",
        "    images, labels = dataiter.next()\n",
        "    return images, labels"
      ],
      "execution_count": 0,
      "outputs": []
    },
    {
      "cell_type": "code",
      "metadata": {
        "id": "6okwpoVcSNws",
        "colab_type": "code",
        "colab": {}
      },
      "source": [
        "from torch.autograd import Variable\n",
        "def predict_image(image):\n",
        "    image_tensor = test_transforms(image).float()\n",
        "    image_tensor = image_tensor.unsqueeze_(0)\n",
        "    input = Variable(image_tensor)\n",
        "    input = input.to(device)\n",
        "    output = model(input)\n",
        "    index = output.data.cpu().numpy().argmax()\n",
        "    return index"
      ],
      "execution_count": 0,
      "outputs": []
    },
    {
      "cell_type": "code",
      "metadata": {
        "id": "4m4rtANOSQ1c",
        "colab_type": "code",
        "colab": {}
      },
      "source": [
        "from torchvision import datasets\n",
        "to_pil = transforms.ToPILImage()\n",
        "images, labels = get_input_images(100)\n",
        "\n",
        "inc = 0\n",
        "output = []\n",
        "for ii in range(1, len(images)):\n",
        "    image = to_pil(images[ii])\n",
        "    index = predict_image(image)\n",
        "    output.append(index)\n",
        "    res = int(labels[ii]) == index\n",
        "    if(res == False):\n",
        "      inc += 1\n",
        "      plt.subplot(5, 6, ii)\n",
        "      plt.axis('off')\n",
        "      print(\"Input image : \")\n",
        "      plt.imshow(images[ii].numpy().squeeze(), cmap='gray_r')\n",
        "      plt.show()\n",
        "      print(\"Predicted output : \",index)\n",
        "    if(inc == 25):\n",
        "      break\n",
        "          \n",
        "print(\"Input : \",labels)      \n",
        "print(\"Output : \",output)        "
      ],
      "execution_count": 0,
      "outputs": []
    }
  ]
}